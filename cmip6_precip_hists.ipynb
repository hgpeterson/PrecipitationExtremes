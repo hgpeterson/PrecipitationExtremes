{
 "cells": [
  {
   "cell_type": "markdown",
   "metadata": {},
   "source": [
    "# Analyzing CMIP6 Precipitation Statistics Using Histograms"
   ]
  },
  {
   "cell_type": "markdown",
   "metadata": {},
   "source": [
    "## packages"
   ]
  },
  {
   "cell_type": "code",
   "execution_count": 1,
   "metadata": {},
   "outputs": [],
   "source": [
    "# imports\n",
    "import numpy as np\n",
    "import xarray as xr\n",
    "import dask.array as da\n",
    "import matplotlib.pyplot as plt\n",
    "import matplotlib.pylab as pl\n",
    "from matplotlib.lines import Line2D\n",
    "from matplotlib import cm\n",
    "from matplotlib import colors\n",
    "from mpl_toolkits.axes_grid1 import make_axes_locatable\n",
    "import warnings\n",
    "warnings.filterwarnings('ignore')\n",
    "\n",
    "# my lib\n",
    "from importlib import reload\n",
    "import cmip6_lib"
   ]
  },
  {
   "cell_type": "code",
   "execution_count": 2,
   "metadata": {},
   "outputs": [
    {
     "data": {
      "text/plain": [
       "<module 'cmip6_lib' from '/export/data1/hgpeterson/ResearchSchneider/cmip_analysis/cmip6_lib.py'>"
      ]
     },
     "execution_count": 2,
     "metadata": {},
     "output_type": "execute_result"
    }
   ],
   "source": [
    "# if you changed something in cmip6_lib.py\n",
    "reload(cmip6_lib)"
   ]
  },
  {
   "cell_type": "markdown",
   "metadata": {},
   "source": [
    "## run functions"
   ]
  },
  {
   "cell_type": "code",
   "execution_count": 3,
   "metadata": {},
   "outputs": [],
   "source": [
    "\"\"\"\n",
    "    precip, hist, bins = get_precip_pdf(dfiles, nbins)\n",
    "    \n",
    "Get the precipitation pdf from CMIP6 data.\n",
    "\"\"\"\n",
    "def get_precip_pdf(dfiles, nbins, timeslice, latslice, lonslice):\n",
    "    # using open_mfdataset for multiple files\n",
    "    ds = xr.open_mfdataset(dfiles)\n",
    "    pr = ds[\"pr\"] # this is precipitation flux in units of kg m-2 s-1\n",
    "\n",
    "    # convert to precipitation\n",
    "    dt = 24*60*60  # 24 hours\n",
    "    rho = 1e3      # density of water in kg m^-3\n",
    "    m_to_mm = 1e3  # convert meters to milimeters\n",
    "    precip = m_to_mm*pr*dt/rho # units of mm during 24 hrs\n",
    "    \n",
    "    # time and space slice\n",
    "    if latslice == \"extrop\":\n",
    "        precip = precip.sel(time=timeslice, lon=lonslice).where(np.abs(precip.lat) >= 30, drop=True)\n",
    "    else:\n",
    "        precip = precip.sel(time=timeslice, lat=latslice, lon=lonslice)\n",
    "    \n",
    "    # weight by cos(ϕ)\n",
    "    weights = da.ones_like(precip)\n",
    "    cosϕ = np.cos(np.deg2rad(precip.lat))\n",
    "    weights *= np.tile(cosϕ, (len(precip.lon), 1)).T\n",
    "    precip *= weights\n",
    "    \n",
    "    # setup bins\n",
    "    pmin = 10**-5\n",
    "    pmax = 10**4\n",
    "    bins = np.zeros(nbins)\n",
    "    bins[1:] = 10**np.linspace(np.log10(pmin), np.log10(pmax), nbins-1) # include 0 as a bin\n",
    "\n",
    "    # compute pdf\n",
    "    hist, bins = da.histogram(precip, bins=bins, density=False)    \n",
    "    \n",
    "    # actually compute\n",
    "    hist = hist.compute()\n",
    "    \n",
    "    return precip, hist, bins\n",
    "\n",
    "\"\"\"\n",
    "    precip_c, hist_c, bins_c, precip_w, hist_w, bins_w = get_ctrl_warm_ssp585(dfiles, nbins, latslice, lonslice)\n",
    "    \n",
    "Compute pdfs for control and warmed states of ssp585 scenario.\n",
    "\"\"\"\n",
    "def get_ctrl_warm_ssp585(dfiles, nbins, latslice, lonslice):\n",
    "    # control: first 20 years\n",
    "    print(\"computing control hist\")\n",
    "    timeslice = slice(\"2015\", \"2035\")\n",
    "    precip_c, hist_c, bins_c = get_precip_pdf(dfiles, nbins, timeslice, latslice, lonslice)\n",
    "    \n",
    "    # warming: last 20 years\n",
    "    print(\"computing warming hist\")\n",
    "    timeslice = slice(\"2080\", \"2100\")\n",
    "    precip_w, hist_w, bins_w = get_precip_pdf(dfiles, nbins, timeslice, latslice, lonslice)\n",
    "\n",
    "    return precip_c, hist_c, bins_c, precip_w, hist_w, bins_w\n",
    "    \n",
    "\"\"\"\n",
    "    save_data_ssp585(filename, bins_c, hist_c, bins_w, hist_w)\n",
    "\"\"\"\n",
    "def save_data_ssp585(filename, bins_c, hist_c, bins_w, hist_w):\n",
    "    np.savez(filename, bins_c=bins_c, hist_c=hist_c, bins_w=bins_w, hist_w=hist_w)\n",
    "    print(filename)\n",
    "    \n",
    "\"\"\"\n",
    "    bins_c, hist_c, bins_w, hist_w = load_hist_data_ssp585(filename)\n",
    "\"\"\"\n",
    "def load_hist_data_ssp585(filename):\n",
    "    data = np.load(filename)\n",
    "    bins_c = data[\"bins_c\"]\n",
    "    hist_c = data[\"hist_c\"]\n",
    "    bins_w = data[\"bins_w\"]\n",
    "    hist_w = data[\"hist_w\"]\n",
    "    return bins_c, hist_c, bins_w, hist_w\n",
    "\n",
    "\"\"\"\n",
    "    pctls, precip_pctls_c, precip_pctls_boot_c, precip_pctls_w, precip_pctls_boot_w, μ_c, σ_c, μ_w, σ_w, ΔT = load_pctls_data_ssp585(filename)\n",
    "\"\"\"\n",
    "def load_pctls_data_ssp585(filename):\n",
    "    data = np.load(filename)\n",
    "    pctls = data[\"pctls\"]\n",
    "    precip_pctls_c = data[\"precip_pctls_c\"]\n",
    "    precip_pctls_boot_c = data[\"precip_pctls_boot_c\"]\n",
    "    precip_pctls_w = data[\"precip_pctls_w\"]\n",
    "    precip_pctls_boot_w = data[\"precip_pctls_boot_w\"]\n",
    "    μ_c = data[\"μ_c\"]\n",
    "    σ_c = data[\"σ_c\"]\n",
    "    μ_w = data[\"μ_w\"]\n",
    "    σ_w = data[\"σ_w\"]\n",
    "    ΔT = data[\"ΔT\"]\n",
    "    return pctls, precip_pctls_c, precip_pctls_boot_c, precip_pctls_w, precip_pctls_boot_w, μ_c, σ_c, μ_w, σ_w, ΔT"
   ]
  },
  {
   "cell_type": "markdown",
   "metadata": {},
   "source": [
    "## compute pdfs for control and warming"
   ]
  },
  {
   "cell_type": "code",
   "execution_count": 4,
   "metadata": {},
   "outputs": [
    {
     "name": "stdout",
     "output_type": "stream",
     "text": [
      "extrop_\n"
     ]
    }
   ],
   "source": [
    "# bins\n",
    "nbins = 1000\n",
    "\n",
    "# lat slice\n",
    "# latslice = slice(-90, 90)\n",
    "# latslice = slice(-30, 30)\n",
    "latslice = \"extrop\"\n",
    "\n",
    "# lon slice\n",
    "lonslice = slice(0, 360)\n",
    "\n",
    "# model descriptions\n",
    "variable_name = \"pr\"\n",
    "frequency_value = \"day\"\n",
    "experiment_id = \"ssp585\"\n",
    "variant_label = \"r1i1p1f1\"\n",
    "if latslice == slice(-90, 90):\n",
    "    domain = \"\"\n",
    "elif latslice == slice(-30, 30):\n",
    "    domain = \"trop_\"\n",
    "elif latslice == \"extrop\":\n",
    "    domain = \"extrop_\"\n",
    "print(domain)\n",
    "\n",
    "# folder\n",
    "path = \"/export/data1/hgpeterson/cmip6/\" + variable_name + \"_\" + frequency_value + \"_\" + experiment_id + \"/\"\n",
    "\n",
    "# make an array of source_id's and grid_label's to choose from\n",
    "file_list = cmip6_lib.get_file_list(path)"
   ]
  },
  {
   "cell_type": "code",
   "execution_count": null,
   "metadata": {},
   "outputs": [],
   "source": [
    "# loop through models\n",
    "for [source_id, grid_label] in file_list:\n",
    "    # get file names structure\n",
    "    filenames = variable_name + \"_\" + frequency_value + \"_\" + source_id + \"_\" + experiment_id + \"_\" + variant_label + \"_\" + grid_label + \"_*.nc\"\n",
    "    dfiles = path + filenames\n",
    "    print(\"\\n\" + filenames)\n",
    "\n",
    "    precip_c, hist_c, bins_c, precip_w, hist_w, bins_w = get_ctrl_warm_ssp585(dfiles, nbins, latslice, lonslice)\n",
    "    savefile = \"data/hists_{}{}.npz\".format(domain, filenames[:-5])\n",
    "    save_data_ssp585(savefile, bins_c, hist_c, bins_w, hist_w)"
   ]
  },
  {
   "cell_type": "markdown",
   "metadata": {},
   "source": [
    "## plots"
   ]
  },
  {
   "cell_type": "code",
   "execution_count": 5,
   "metadata": {},
   "outputs": [
    {
     "name": "stdout",
     "output_type": "stream",
     "text": [
      "\n",
      "1.973054156142856 5.8009907552644435\n",
      "trop_\n",
      "3.549287714891907 8.909280695695848\n",
      "extrop_\n",
      "1.1930429709016677 3.320906045842319\n"
     ]
    },
    {
     "data": {
      "image/png": "[encoded data removed]",
      "text/plain": [
       "<Figure size 490.176x100.859 with 6 Axes>"
      ]
     },
     "metadata": {},
     "output_type": "display_data"
    }
   ],
   "source": [
    "### multimodel mean\n",
    "\n",
    "n_models = len(file_list)\n",
    "\n",
    "# init plot\n",
    "nrows = 1\n",
    "ncols = 3\n",
    "fig, axes = plt.subplots(nrows, ncols, figsize=(3.404*2, 3.404*2/ncols/1.62*nrows), sharey=True)\n",
    "axes[0].set_ylabel(\"Precipitation (mm day$^{-1}$)\")\n",
    "axes[1].set_xlabel(\"Percentile\")\n",
    "axes[0].annotate(\"(a) global\", (0.05, 0.95), xycoords=\"axes fraction\")\n",
    "axes[1].annotate(\"(b) tropics\", (0.05, 0.95), xycoords=\"axes fraction\")\n",
    "axes[2].annotate(\"(c) extratropics\", (0.05, 0.95), xycoords=\"axes fraction\")\n",
    "custom_lines = [Line2D([0], [0], ls=\"-\", c=\"tab:blue\"),\n",
    "               Line2D([0], [0], ls=\"-\", c=\"tab:orange\"),\n",
    "               Line2D([0], [0], ls=\"-\", c=\"tab:green\"),\n",
    "               Line2D([0], [0], ls=\"--\", c=\"k\")]\n",
    "custom_handles = [\"control\", \"warming\", \"ratio\", \"gamma fit\"]\n",
    "axes[0].legend(custom_lines, custom_handles, ncol=4, loc=(0.7, 1.05))\n",
    "\n",
    "# loop through domains and models\n",
    "i = 0\n",
    "for i, domain in enumerate([\"\", \"trop_\", \"extrop_\"]):\n",
    "    print(domain)\n",
    "    ax = axes[i]\n",
    "    # keep running means\n",
    "    control = 0\n",
    "    warming = 0\n",
    "    ratio_error = 0\n",
    "    ΔT_mean = 0\n",
    "    j = 0\n",
    "    for [source_id, grid_label] in file_list:   \n",
    "        # get file names structure\n",
    "        fbase = variable_name + \"_\" + frequency_value + \"_\" + source_id + \"_\" + experiment_id + \"_\" + variant_label + \"_\" + grid_label\n",
    "        filename_hists = \"data/hists_\" + domain + fbase    \n",
    "        filename_pctls = \"data/pctls_\" + domain + fbase    \n",
    "        filename_pctls_global = \"data/pctls_\" + fbase\n",
    "        \n",
    "        bins_c, hist_c, bins_w, hist_w = load_hist_data_ssp585(filename_hists + \".npz\")\n",
    "        pctls, precip_pctls_c, precip_pctls_boot_c, precip_pctls_w, precip_pctls_boot_w, μ_c, σ_c, μ_w, σ_w, ΔT_global = load_pctls_data_ssp585(filename_pctls_global + \".npz\")\n",
    "        pctls, precip_pctls_c, precip_pctls_boot_c, precip_pctls_w, precip_pctls_boot_w, μ_c, σ_c, μ_w, σ_w, ΔT = load_pctls_data_ssp585(filename_pctls + \".npz\")\n",
    "\n",
    "        # bootstrap intervals\n",
    "        precip_pctls_c_low  = np.percentile(precip_pctls_boot_c, 2.5,  axis=0)\n",
    "        precip_pctls_c_high = np.percentile(precip_pctls_boot_c, 97.5, axis=0)\n",
    "        precip_pctls_w_low  = np.percentile(precip_pctls_boot_w, 2.5,  axis=0)\n",
    "        precip_pctls_w_high = np.percentile(precip_pctls_boot_w, 97.5, axis=0)\n",
    "        # ratios\n",
    "        ratio_low = 100*(precip_pctls_w_low/precip_pctls_c_high - 1)/ΔT_global\n",
    "        ratio_high = 100*(precip_pctls_w_high/precip_pctls_c_low - 1)/ΔT_global\n",
    "        \n",
    "        # add to running means (or initialize them if needed)\n",
    "        control += hist_c\n",
    "        warming += hist_w\n",
    "        if type(ratio_error) == int:\n",
    "            ratio_error = np.vstack((ratio_low, ratio_high))\n",
    "            \n",
    "            ratios = np.zeros((n_models, len(pctls)))\n",
    "            ratios[j, :] = 100*(precip_pctls_w/precip_pctls_c - 1)/ΔT_global\n",
    "            j += 1\n",
    "        else:\n",
    "            ratio_error = np.vstack((ratio_error, ratio_low, ratio_high))\n",
    "            \n",
    "            ratios[j, :] = 100*(precip_pctls_w/precip_pctls_c - 1)/ΔT_global\n",
    "            j += 1\n",
    "        \n",
    "        # warming\n",
    "        ΔT_mean += ΔT_global\n",
    "       \n",
    "    # done with models, divide by N\n",
    "    ΔT_mean /= n_models\n",
    "    \n",
    "    # compute k_c, θ_c from bins\n",
    "    k_c, θ_c = cmip6_lib.gamma_fit_from_hist(bins_c, control)\n",
    "    \n",
    "    # compute mean scaling\n",
    "    μ_c, σ_c = cmip6_lib.get_mean_std_from_hist(bins_c, control)\n",
    "    μ_w, σ_w = cmip6_lib.get_mean_std_from_hist(bins_w, warming)\n",
    "    mean_scaling = μ_w/μ_c - 1\n",
    "    print(μ_c, σ_c)\n",
    "    \n",
    "    # compute extreme scaling     \n",
    "    pctls_c, precip_func_c = cmip6_lib.hist_to_pctls(bins_c, control)\n",
    "    pctls_w, precip_func_w = cmip6_lib.hist_to_pctls(bins_w, warming)\n",
    "    extreme_scaling = precip_func_w(0.99999)/precip_func_c(0.99999) - 1\n",
    "    \n",
    "    # warming fit based on theory\n",
    "    θ_w_theory = θ_c*(1 + extreme_scaling)\n",
    "    k_w_theory = k_c*(1 + mean_scaling - extreme_scaling)\n",
    "\n",
    "    # plot\n",
    "    axtwin = cmip6_lib.pctl_plot_hist(ax, ΔT_mean, bins_c, control, k_c, θ_c, bins_w, warming, k_w_theory, θ_w_theory)\n",
    "    \n",
    "    # add ratios\n",
    "    ratio = np.nanmean(ratios, axis=0)\n",
    "    ratio_low  = np.nanmin(ratio_error, axis=0)\n",
    "    ratio_high = np.nanmax(ratio_error, axis=0)\n",
    "    axtwin.plot(cmip6_lib.x_transform(pctls), ratio, color=\"tab:green\")\n",
    "    axtwin.fill_between(cmip6_lib.x_transform(pctls), ratio_low, ratio_high, alpha=0.5, lw=0, color=\"tab:green\")\n",
    "    \n",
    "    # label\n",
    "    if i == 2:\n",
    "        axtwin.set_ylabel(\"Change (\\% K$^{-1}$)\", c=\"tab:green\")\n",
    "    else:\n",
    "        axtwin.set_yticklabels([])\n",
    "\n",
    "plt.subplots_adjust(bottom=0.2, top=0.8, left=0.1, right=0.9, wspace=0.1, hspace=0.1)\n",
    "plt.savefig(\"multimodelmean.png\")\n",
    "plt.savefig(\"multimodelmean.pdf\")"
   ]
  },
  {
   "cell_type": "code",
   "execution_count": null,
   "metadata": {},
   "outputs": [],
   "source": []
  }
 ],
 "metadata": {
  "kernelspec": {
   "display_name": "Python 3",
   "language": "python",
   "name": "python3"
  },
  "language_info": {
   "codemirror_mode": {
    "name": "ipython",
    "version": 3
   },
   "file_extension": ".py",
   "mimetype": "text/x-python",
   "name": "python",
   "nbconvert_exporter": "python",
   "pygments_lexer": "ipython3",
   "version": "3.7.7"
  }
 },
 "nbformat": 4,
 "nbformat_minor": 4
}
